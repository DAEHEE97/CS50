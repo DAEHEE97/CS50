{
 "cells": [
  {
   "cell_type": "markdown",
   "id": "19db72df",
   "metadata": {},
   "source": [
    "# Q1"
   ]
  },
  {
   "cell_type": "markdown",
   "id": "48924d62",
   "metadata": {},
   "source": [
    "## \n",
    "\n",
    "숫자 10을 2진법으로 표현하기 위해서 최소 몇 개의 비트가 필요할까요? 최소 4비트\n",
    "\n",
    "\n",
    "\n",
    "\n",
    "- 10을 2진법으로 표현하면 1010입니다. \n",
    "\n",
    "- 이는 4개의 비트로 나타낼 수 있으며, 각 비트는 2의 거듭제곱에 해당하는 값을 가집니다.\n",
    "\n",
    "맨 오른쪽 비트부터 차례대로 2^0, 2^1, 2^2, 2^3의 값을 나타냅니다. \n",
    "\n",
    "따라서, 10을 2진법으로 표현할 때는 2^3과 2^1의 비트가 필요합니다.\n",
    "\n",
    "- 하지만, 이진수로 표현할 때는 보통 8비트(1바이트)를 사용하는 것이 일반적입니다. 따라서, 10을 2진법으로 표현할 때는 일반적으로 8비트로 00001010 표현합니다.\n",
    "\n",
    "\n",
    "\n"
   ]
  },
  {
   "cell_type": "markdown",
   "id": "0139fcf0",
   "metadata": {},
   "source": [
    "---"
   ]
  },
  {
   "cell_type": "markdown",
   "id": "0aa21d84",
   "metadata": {},
   "source": [
    "## \n",
    "\n",
    "총 512페이지의 전화번호부에서 '이펭수'은 64페이지에 있습니다. \n",
    "\n",
    "책의 절반씩을 찾아보는 두 번째 알고리즘을 사용한다면, '이펭수'을 찾기 위해 페이지를 몇 번 찾아봐야 할까요?\n",
    "\n",
    "512\n",
    "\n",
    "256\n",
    "\n",
    "128\n",
    "\n",
    "64\n",
    "\n"
   ]
  },
  {
   "cell_type": "markdown",
   "id": "5ac9f8b0",
   "metadata": {},
   "source": [
    "---"
   ]
  },
  {
   "cell_type": "markdown",
   "id": "8cfcbd22",
   "metadata": {},
   "source": [
    "##\n",
    "\n",
    "10진법으로 표현된 '14'를 2진법으로 표현하면 어떻게 될까요?\n",
    "\n",
    "1110\n",
    "\n",
    "8 4 2 0"
   ]
  },
  {
   "cell_type": "markdown",
   "id": "e6762d1d",
   "metadata": {},
   "source": [
    "---"
   ]
  },
  {
   "cell_type": "markdown",
   "id": "24a922e6",
   "metadata": {},
   "source": [
    "##\n",
    "\n",
    "2진법으로 표현된 [1011]을 10진법으로 표현하면 어떻게 될까요?\n",
    "\n",
    "8 0 2 1\n",
    "\n",
    "11\n"
   ]
  },
  {
   "cell_type": "markdown",
   "id": "a36b171e",
   "metadata": {},
   "source": [
    "---"
   ]
  },
  {
   "cell_type": "markdown",
   "id": "05766148",
   "metadata": {},
   "source": [
    "##\n",
    "\n",
    "컴퓨터에는 ( 트랜지스터 )라고 불리는 굉장히 많은 스위치가 있고 on/off 상태를 통해 0과 1을 표현합니다"
   ]
  },
  {
   "cell_type": "markdown",
   "id": "254f838d",
   "metadata": {},
   "source": [
    "---"
   ]
  },
  {
   "cell_type": "markdown",
   "id": "d95d7167",
   "metadata": {},
   "source": [
    "##\n",
    "\n",
    "컴퓨터가 수행할 작업을 프로그램 언어가 아니라, 사람이 사용하는 언어로 알고리즘의 논리적 절차를 작성한 코드를 무엇이라고 하나요?\n",
    "\n",
    "의사 코드 (Pseudo code)"
   ]
  },
  {
   "cell_type": "markdown",
   "id": "6c345c7f",
   "metadata": {},
   "source": [
    "---"
   ]
  },
  {
   "cell_type": "markdown",
   "id": "fd7b1a2b",
   "metadata": {},
   "source": [
    "## \n",
    "\n"
   ]
  },
  {
   "cell_type": "markdown",
   "id": "1a1acc87",
   "metadata": {},
   "source": [
    "---"
   ]
  }
 ],
 "metadata": {
  "kernelspec": {
   "display_name": "Python 3 (ipykernel)",
   "language": "python",
   "name": "python3"
  },
  "language_info": {
   "codemirror_mode": {
    "name": "ipython",
    "version": 3
   },
   "file_extension": ".py",
   "mimetype": "text/x-python",
   "name": "python",
   "nbconvert_exporter": "python",
   "pygments_lexer": "ipython3",
   "version": "3.8.16"
  },
  "toc": {
   "base_numbering": 1,
   "nav_menu": {},
   "number_sections": true,
   "sideBar": true,
   "skip_h1_title": false,
   "title_cell": "Table of Contents",
   "title_sidebar": "Contents",
   "toc_cell": false,
   "toc_position": {},
   "toc_section_display": true,
   "toc_window_display": false
  },
  "varInspector": {
   "cols": {
    "lenName": 16,
    "lenType": 16,
    "lenVar": 40
   },
   "kernels_config": {
    "python": {
     "delete_cmd_postfix": "",
     "delete_cmd_prefix": "del ",
     "library": "var_list.py",
     "varRefreshCmd": "print(var_dic_list())"
    },
    "r": {
     "delete_cmd_postfix": ") ",
     "delete_cmd_prefix": "rm(",
     "library": "var_list.r",
     "varRefreshCmd": "cat(var_dic_list()) "
    }
   },
   "types_to_exclude": [
    "module",
    "function",
    "builtin_function_or_method",
    "instance",
    "_Feature"
   ],
   "window_display": false
  }
 },
 "nbformat": 4,
 "nbformat_minor": 5
}
