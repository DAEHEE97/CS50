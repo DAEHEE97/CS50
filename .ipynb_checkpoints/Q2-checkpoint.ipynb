{
 "cells": [
  {
   "cell_type": "markdown",
   "id": "19db72df",
   "metadata": {},
   "source": [
    "# Q2"
   ]
  },
  {
   "cell_type": "markdown",
   "id": "c68f1f96",
   "metadata": {},
   "source": [
    "---"
   ]
  },
  {
   "cell_type": "markdown",
   "id": "48924d62",
   "metadata": {},
   "source": [
    "##\n",
    "\n",
    "C언어로 작성된 hello.c 소스코드를 컴퓨터가 이해할 수 있는 머신코드로 컴파일 하기 위해 어떤 명령어를 프롬프트에 입력해야할까요?\n",
    "\n",
    "- $clang hello.c"
   ]
  },
  {
   "cell_type": "markdown",
   "id": "0139fcf0",
   "metadata": {},
   "source": [
    "---"
   ]
  },
  {
   "cell_type": "markdown",
   "id": "0aa21d84",
   "metadata": {},
   "source": [
    "##\n",
    "\n",
    "사용자 이름이 저장된 문자열 변수 name와 \"Hello\"를 연결해서 출력하려합니다. 올바른 C언어 코드는 무엇인가요?\n",
    "\n",
    "- printf(\"Hello, %s\", name);"
   ]
  },
  {
   "cell_type": "markdown",
   "id": "5ac9f8b0",
   "metadata": {},
   "source": [
    "---"
   ]
  },
  {
   "cell_type": "markdown",
   "id": "8cfcbd22",
   "metadata": {},
   "source": [
    "##\n",
    "\n",
    "‘x가 y와 같다면’ 이라는 조건문을 C 코드로 나타내면 어떻게 될까요?\n",
    "\n",
    "- if (x==y)\n"
   ]
  },
  {
   "cell_type": "markdown",
   "id": "e6762d1d",
   "metadata": {},
   "source": [
    "---"
   ]
  },
  {
   "cell_type": "markdown",
   "id": "24a922e6",
   "metadata": {},
   "source": [
    "##\n",
    "\n",
    "변수 x가 입력되었을 때 x가 짝수인지 홀수인지 알아내는 프로그램을 구현하기 위해 사용하면 좋은 연산자는 다음 중 무엇인가요?\n",
    "\n",
    "- % 나머지 연산\n"
   ]
  },
  {
   "cell_type": "markdown",
   "id": "a36b171e",
   "metadata": {},
   "source": [
    "---"
   ]
  },
  {
   "cell_type": "markdown",
   "id": "05766148",
   "metadata": {},
   "source": [
    "## \n",
    "\n",
    "아래와 같은 C 코드가 있습니다. printf 함수 사용을 위해 꼭 추가되어야 하는 코드는 무엇인가요?\n",
    "\n",
    "- `#include <stdio.h>`\n"
   ]
  },
  {
   "cell_type": "markdown",
   "id": "254f838d",
   "metadata": {},
   "source": [
    "---"
   ]
  },
  {
   "cell_type": "markdown",
   "id": "d95d7167",
   "metadata": {},
   "source": [
    "##\n",
    "\n",
    "아래와 같이 hello()라는 사용자 정의 함수를 작성한 후, 메인 함수에서 사용하려고 합니다. \n",
    "\n",
    "파일 상단에 정의되어야하는 코드는 무엇일까요?\n",
    "\n",
    "\n",
    "- void hello(int);\n",
    "\n",
    "\n",
    "메인위의 미리 선언\n",
    "\n",
    "사용자 지정 함수\n",
    "\n"
   ]
  },
  {
   "cell_type": "markdown",
   "id": "6c345c7f",
   "metadata": {},
   "source": [
    "---"
   ]
  },
  {
   "cell_type": "markdown",
   "id": "fd7b1a2b",
   "metadata": {},
   "source": [
    "##\n",
    "\n",
    "어떤 작업을 50번 반복 수행하는 루프를 구현하기 위한 C 코드로 적절한 것은 무엇인가요?\n",
    "\n",
    "- for (int i = 0; i < 50; i++)\n"
   ]
  },
  {
   "cell_type": "markdown",
   "id": "1a1acc87",
   "metadata": {},
   "source": [
    "---"
   ]
  },
  {
   "cell_type": "markdown",
   "id": "9b3e852e",
   "metadata": {},
   "source": [
    "##\n",
    "\n",
    "컴퓨터 하드웨어의 한계로 인해 발생하는 문제 중 하나로, 변수가 담을 수 있는 최대 허용 범위를 벗어난 값을 저장해 예상치 못한 결과가 나오는 현상을 무엇이라고 하나요?\n",
    "\n",
    "- 오버플로우\n"
   ]
  },
  {
   "cell_type": "markdown",
   "id": "02c1cff7",
   "metadata": {},
   "source": [
    "---"
   ]
  },
  {
   "cell_type": "markdown",
   "id": "81134e85",
   "metadata": {},
   "source": []
  },
  {
   "cell_type": "markdown",
   "id": "e21ed749",
   "metadata": {},
   "source": [
    "---"
   ]
  },
  {
   "cell_type": "markdown",
   "id": "13c72570",
   "metadata": {},
   "source": []
  },
  {
   "cell_type": "markdown",
   "id": "476bcdf5",
   "metadata": {},
   "source": [
    "---"
   ]
  },
  {
   "cell_type": "markdown",
   "id": "17ab9585",
   "metadata": {},
   "source": []
  },
  {
   "cell_type": "markdown",
   "id": "ee1b8017",
   "metadata": {},
   "source": [
    "---"
   ]
  }
 ],
 "metadata": {
  "kernelspec": {
   "display_name": "Python 3 (ipykernel)",
   "language": "python",
   "name": "python3"
  },
  "language_info": {
   "codemirror_mode": {
    "name": "ipython",
    "version": 3
   },
   "file_extension": ".py",
   "mimetype": "text/x-python",
   "name": "python",
   "nbconvert_exporter": "python",
   "pygments_lexer": "ipython3",
   "version": "3.8.16"
  },
  "toc": {
   "base_numbering": 1,
   "nav_menu": {},
   "number_sections": true,
   "sideBar": true,
   "skip_h1_title": false,
   "title_cell": "Table of Contents",
   "title_sidebar": "Contents",
   "toc_cell": false,
   "toc_position": {},
   "toc_section_display": true,
   "toc_window_display": false
  },
  "varInspector": {
   "cols": {
    "lenName": 16,
    "lenType": 16,
    "lenVar": 40
   },
   "kernels_config": {
    "python": {
     "delete_cmd_postfix": "",
     "delete_cmd_prefix": "del ",
     "library": "var_list.py",
     "varRefreshCmd": "print(var_dic_list())"
    },
    "r": {
     "delete_cmd_postfix": ") ",
     "delete_cmd_prefix": "rm(",
     "library": "var_list.r",
     "varRefreshCmd": "cat(var_dic_list()) "
    }
   },
   "types_to_exclude": [
    "module",
    "function",
    "builtin_function_or_method",
    "instance",
    "_Feature"
   ],
   "window_display": false
  }
 },
 "nbformat": 4,
 "nbformat_minor": 5
}
