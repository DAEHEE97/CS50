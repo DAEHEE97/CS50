{
 "cells": [
  {
   "cell_type": "markdown",
   "id": "19db72df",
   "metadata": {},
   "source": [
    "# Q1"
   ]
  },
  {
   "cell_type": "markdown",
   "id": "48924d62",
   "metadata": {},
   "source": [
    "##\n",
    "\n",
    "int 자료형 2개로 이뤄진 배열 list를 int 자료형 5개를 담을 수 있는 배열로 확장하고 싶습니다. \n",
    "\n",
    "이를 위해 임시 포인터 *tmp를 선언하는 올바른 realloc() 코드는 무엇인가요?\n",
    "\n",
    "- int *tmp = realloc(list, 5 * sizeof(int));"
   ]
  },
  {
   "cell_type": "markdown",
   "id": "0139fcf0",
   "metadata": {},
   "source": [
    "---"
   ]
  },
  {
   "cell_type": "markdown",
   "id": "0aa21d84",
   "metadata": {},
   "source": [
    "## \n",
    "\n",
    "같은 크기를 가지는 배열과 리스트가 있습니다. 첫번째 값이 아닌 위치의 값에 접근하려고 할 때 소요되는 시간에 대한 설명으로 옳은 것은 무엇인가요?\n",
    "\n",
    "- 배열이 리스트보다 더 빠르다"
   ]
  },
  {
   "cell_type": "markdown",
   "id": "5ac9f8b0",
   "metadata": {},
   "source": [
    "---"
   ]
  },
  {
   "cell_type": "markdown",
   "id": "8cfcbd22",
   "metadata": {},
   "source": [
    "##\n",
    "\n",
    "node라는 구조체 안에 number 멤버가 정의되어 있습니다. \n",
    "\n",
    "node *n; 변수가 선언되어 있을 때, (*n).number 와 동일한 의미의 코드는 다음 중 무엇인가요?\n",
    "\n",
    "- n->number"
   ]
  },
  {
   "cell_type": "markdown",
   "id": "e6762d1d",
   "metadata": {},
   "source": [
    "---"
   ]
  },
  {
   "cell_type": "markdown",
   "id": "24a922e6",
   "metadata": {},
   "source": [
    "##\n",
    "\n",
    "연결 리스트에서 값을 검색하는데 걸리는 시간을 Big-O로 올바르게 나타낸 것은 무엇인가요?\n",
    "\n",
    "- O(n)"
   ]
  },
  {
   "cell_type": "markdown",
   "id": "a36b171e",
   "metadata": {},
   "source": [
    "---"
   ]
  },
  {
   "cell_type": "markdown",
   "id": "05766148",
   "metadata": {},
   "source": [
    "##\n",
    "\n",
    "트리의 시작점이 되는 가장 최상위 노드를 일컫는 용어는 무엇인가요?\n",
    "\n",
    "- 루트 노트(root node)"
   ]
  },
  {
   "cell_type": "markdown",
   "id": "254f838d",
   "metadata": {},
   "source": [
    "---"
   ]
  },
  {
   "cell_type": "markdown",
   "id": "d95d7167",
   "metadata": {},
   "source": [
    "## \n",
    "\n",
    "아래와 같이 영문자를 인덱스로 변환해 해시 테이블(Hash table)을 작성하려고 합니다. \n",
    "\n",
    "어떤 문자가 어떤 값이 될지 매핑하는 함수를 무엇이라고 하나요?\n",
    "\n",
    "- 해시 함수"
   ]
  },
  {
   "cell_type": "markdown",
   "id": "6c345c7f",
   "metadata": {},
   "source": [
    "---"
   ]
  },
  {
   "cell_type": "markdown",
   "id": "fd7b1a2b",
   "metadata": {},
   "source": [
    "##\n",
    "\n",
    "길이가 10인 영어 문자열이 있습니다. \n",
    "\n",
    "강의에서 살펴본 영어 문자열 트라이에 저장하는 경우 몇 개의 노드를 이어줘야 할까요?\n",
    "\n",
    "- 10개"
   ]
  },
  {
   "cell_type": "markdown",
   "id": "1a1acc87",
   "metadata": {},
   "source": [
    "---"
   ]
  },
  {
   "cell_type": "markdown",
   "id": "9b3e852e",
   "metadata": {},
   "source": [
    "## \n",
    "\n",
    "값을 넣고 뺄 때 ‘선입 선출’ 또는 ‘FIFO(First In First Out)’의 방식을 따르는 자료 구조는 무엇인가요?\n",
    "\n",
    "- 큐(queue) FIFO\n",
    "\n",
    "- 스택(stack) FILO "
   ]
  },
  {
   "cell_type": "markdown",
   "id": "02c1cff7",
   "metadata": {},
   "source": [
    "---"
   ]
  },
  {
   "cell_type": "markdown",
   "id": "81134e85",
   "metadata": {},
   "source": [
    "## \n",
    "\n",
    "프로그램에 이름과 전화번호를 저장하는 자료구조를 구현하려고 합니다. \n",
    "\n",
    "- 시간 복잡도\n",
    "- 공간 복잡도\n",
    "- 데이터의 양\n",
    "\n",
    "\n",
    "이때 반드시 고려해야할 점이 아닌 것은?\n",
    "\n",
    "- 메모리 주소 표기법"
   ]
  },
  {
   "cell_type": "markdown",
   "id": "e21ed749",
   "metadata": {},
   "source": [
    "---"
   ]
  },
  {
   "cell_type": "markdown",
   "id": "13c72570",
   "metadata": {},
   "source": [
    "##\n",
    "\n",
    "연결 리스트를 구현하기 위해 노드를 구조체로 정의하려 합니다. \n",
    "\n",
    "노드에 입력될 숫자 number 와 다음 노드를 가리키는 포인터 next 를 정의하기 위해 괄호 안에 들어갈 코드로 적절한 것은 무엇인가요?\n",
    "\n",
    "```.c\n",
    "\n",
    "typedef struct node\n",
    "{\n",
    "    int number;\n",
    "    struct node(*next);\n",
    "\n",
    "}\n",
    "node;\n",
    "\n",
    "\n",
    "```\n",
    "\n",
    "\n"
   ]
  },
  {
   "cell_type": "markdown",
   "id": "476bcdf5",
   "metadata": {},
   "source": [
    "---"
   ]
  },
  {
   "cell_type": "markdown",
   "id": "17ab9585",
   "metadata": {},
   "source": []
  },
  {
   "cell_type": "markdown",
   "id": "ee1b8017",
   "metadata": {},
   "source": [
    "---"
   ]
  }
 ],
 "metadata": {
  "kernelspec": {
   "display_name": "Python 3 (ipykernel)",
   "language": "python",
   "name": "python3"
  },
  "language_info": {
   "codemirror_mode": {
    "name": "ipython",
    "version": 3
   },
   "file_extension": ".py",
   "mimetype": "text/x-python",
   "name": "python",
   "nbconvert_exporter": "python",
   "pygments_lexer": "ipython3",
   "version": "3.8.16"
  },
  "toc": {
   "base_numbering": 1,
   "nav_menu": {},
   "number_sections": true,
   "sideBar": true,
   "skip_h1_title": false,
   "title_cell": "Table of Contents",
   "title_sidebar": "Contents",
   "toc_cell": false,
   "toc_position": {},
   "toc_section_display": true,
   "toc_window_display": false
  },
  "varInspector": {
   "cols": {
    "lenName": 16,
    "lenType": 16,
    "lenVar": 40
   },
   "kernels_config": {
    "python": {
     "delete_cmd_postfix": "",
     "delete_cmd_prefix": "del ",
     "library": "var_list.py",
     "varRefreshCmd": "print(var_dic_list())"
    },
    "r": {
     "delete_cmd_postfix": ") ",
     "delete_cmd_prefix": "rm(",
     "library": "var_list.r",
     "varRefreshCmd": "cat(var_dic_list()) "
    }
   },
   "types_to_exclude": [
    "module",
    "function",
    "builtin_function_or_method",
    "instance",
    "_Feature"
   ],
   "window_display": false
  }
 },
 "nbformat": 4,
 "nbformat_minor": 5
}
