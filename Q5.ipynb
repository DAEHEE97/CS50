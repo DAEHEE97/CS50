{
 "cells": [
  {
   "cell_type": "markdown",
   "id": "19db72df",
   "metadata": {},
   "source": [
    "# Q1"
   ]
  },
  {
   "cell_type": "markdown",
   "id": "48924d62",
   "metadata": {},
   "source": [
    "##\n",
    "\n",
    "아래와 같이 변수 n과 p을 생성했습니다. \n",
    "\n",
    "변수 n의 메모리 주소를 출력하는 올바른 코드\n",
    "\n",
    "\n",
    "```.c\n",
    "\n",
    "int n = 5;\n",
    "int *p = &n;\n",
    "\n",
    "\n",
    "printf(\"%p\\n\", p);\n",
    "\n",
    "```\n",
    "\n"
   ]
  },
  {
   "cell_type": "markdown",
   "id": "0139fcf0",
   "metadata": {},
   "source": [
    "---"
   ]
  },
  {
   "cell_type": "markdown",
   "id": "0aa21d84",
   "metadata": {},
   "source": [
    "##\n",
    "\n",
    "CS50 라이브러리의 string 자료형을 사용해 변수 s를 생성했습니다. 아래와 동일한 의미를 지니는 코드는 무엇인가요?\n",
    "\n",
    "\n",
    "```.c\n",
    "\n",
    "string s = 'CS50';\n",
    "\n",
    "char *s = 'CS50';\n",
    "\n",
    "printf(\"%c\\n\", *(s))   // C \n",
    "printf(\"%c\\n\", *(s+1))  // S\n",
    "printf(\"%c\\n\", *(s+2)) // 5 \n",
    "\n",
    "\n",
    "```"
   ]
  },
  {
   "cell_type": "markdown",
   "id": "5ac9f8b0",
   "metadata": {},
   "source": [
    "---"
   ]
  },
  {
   "cell_type": "markdown",
   "id": "8cfcbd22",
   "metadata": {},
   "source": [
    "##\n",
    "\n",
    "아래와 같이 변수 s를 생성한 뒤, 새로운 변수 t에 “EDWITH” 문자를 복사하려고 합니다. \n",
    "\n",
    "malloc 함수를 이용해 변수 t를 생성할 때 총 몇 바이트의 메모리를 할당해야 할까요?\n",
    "\n",
    "\n",
    "```.c\n",
    "\n",
    "\n",
    "\n",
    "int main() {\n",
    "\n",
    "    // string s = \"EDWITH\";\n",
    "    \n",
    "    char *s = \"EDWITH\";\n",
    "    \n",
    "    int length = strlen(s);\n",
    "    \n",
    "    char *t = (char *)malloc(length + 1);\n",
    "\n",
    "    // 문자열 복사\n",
    "    strcpy(t, s);\n",
    "    \n",
    "    \n",
    "    printf(\"t: %s\\n\", t);\n",
    "\n",
    "    // 메모리 해제\n",
    "    free(t);\n",
    "\n",
    "    return 0;\n",
    "\n",
    "}\n",
    "\n",
    "\n",
    "```\n",
    "\n",
    "- 문자열의 마지막에는 null 문자('\\0')가 필요하므로 \"EDWITH\" 문자열을 저장하기 위한 추가적인 공간이 필요합니다. \n",
    "\n",
    "- 따라서 null 문자를 고려하여 문자열의 길이에 1을 더한 만큼의 메모리를 할당해야 합니다.\n",
    "\n",
    "- 문자열 \"EDWITH\"의 길이가 6이므로, malloc 함수에 전달하는 바이트 수는 6 + 1 = 7입니다. \n",
    "\n",
    "- 따라서 t에 7바이트의 메모리를 할당해야 합니다."
   ]
  },
  {
   "cell_type": "markdown",
   "id": "e6762d1d",
   "metadata": {},
   "source": [
    "---"
   ]
  },
  {
   "cell_type": "markdown",
   "id": "24a922e6",
   "metadata": {},
   "source": [
    "##\n",
    "\n",
    "할당된 메모리를 해제 하기 위해 사용하는 함수는 무엇인가요?\n",
    "\n",
    "- `free()`"
   ]
  },
  {
   "cell_type": "markdown",
   "id": "a36b171e",
   "metadata": {},
   "source": [
    "---"
   ]
  },
  {
   "cell_type": "markdown",
   "id": "05766148",
   "metadata": {},
   "source": [
    "##\n",
    "\n",
    "`malloc()` 함수를 통해 할당받은 메모리는 어디에 위치하게 될까요?\n",
    "\n",
    "- 힙(heap)"
   ]
  },
  {
   "cell_type": "markdown",
   "id": "254f838d",
   "metadata": {},
   "source": [
    "---"
   ]
  }
 ],
 "metadata": {
  "kernelspec": {
   "display_name": "Python 3 (ipykernel)",
   "language": "python",
   "name": "python3"
  },
  "language_info": {
   "codemirror_mode": {
    "name": "ipython",
    "version": 3
   },
   "file_extension": ".py",
   "mimetype": "text/x-python",
   "name": "python",
   "nbconvert_exporter": "python",
   "pygments_lexer": "ipython3",
   "version": "3.8.16"
  },
  "toc": {
   "base_numbering": 1,
   "nav_menu": {},
   "number_sections": true,
   "sideBar": true,
   "skip_h1_title": false,
   "title_cell": "Table of Contents",
   "title_sidebar": "Contents",
   "toc_cell": false,
   "toc_position": {},
   "toc_section_display": true,
   "toc_window_display": false
  },
  "varInspector": {
   "cols": {
    "lenName": 16,
    "lenType": 16,
    "lenVar": 40
   },
   "kernels_config": {
    "python": {
     "delete_cmd_postfix": "",
     "delete_cmd_prefix": "del ",
     "library": "var_list.py",
     "varRefreshCmd": "print(var_dic_list())"
    },
    "r": {
     "delete_cmd_postfix": ") ",
     "delete_cmd_prefix": "rm(",
     "library": "var_list.r",
     "varRefreshCmd": "cat(var_dic_list()) "
    }
   },
   "types_to_exclude": [
    "module",
    "function",
    "builtin_function_or_method",
    "instance",
    "_Feature"
   ],
   "window_display": false
  }
 },
 "nbformat": 4,
 "nbformat_minor": 5
}
