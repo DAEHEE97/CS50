{
 "cells": [
  {
   "cell_type": "markdown",
   "id": "c7509a95",
   "metadata": {},
   "source": [
    "## 16진수\n",
    "\n",
    "컴퓨터과학에서는 숫자를 10진수나 2진수 대신 16진수(Hexadecimal)로 표현하는 경우가 많습니다. \n",
    "\n",
    "컴퓨터에서 데이터를 처리하기 위해 16진수를 사용할 때 장점이 있기 때문입니다. \n",
    "\n",
    "16진수와 일상생활에서 우리가 사용하는 10진수와 비교하면 그 차이를 알 수 있습니다. \n",
    "\n",
    "- 16진수를 사용하면 **10진수보다 2진수를 간단하게 나타낼 수 있습니다.** \n",
    "\n"
   ]
  },
  {
   "cell_type": "markdown",
   "id": "ff50c953",
   "metadata": {},
   "source": [
    "---"
   ]
  },
  {
   "cell_type": "markdown",
   "id": "972e55e2",
   "metadata": {},
   "source": [
    "## 10진수를 16진수로 바꾸어보기\n",
    "\n",
    "\n",
    "JPG 이미지 파일은 항상 255 216 255 로 시작되고 이것은 10진수입니다. \n",
    "\n",
    "하지만 실제 컴퓨터 내에서는 10진수를 사용하지 않습니다. \n",
    "\n",
    "컴퓨터는 0과 1만을 이해할 수 있기 때문입니다.\n",
    "\n",
    "<img src =\"https://cphinf.pstatic.net/mooc/20170807_218/1502072784893AgAug_PNG/5.4_-01.png?type=w760\">\n",
    "\n",
    "\n",
    "먼저 255 216 255를 2진수로 나타내보면 <그림 1>과 같습니다. \n",
    "\n",
    "\n",
    "2진수로 모든 데이터를 표현하기에는 너무 길어지기 때문에 16진수로 바꾸어 보겠습니다. \n",
    "\n",
    "$2^4$ 이 16이기 때문에, 4bits씩 두 덩어리로 나누어 보면,\n",
    "\n",
    "\n",
    "0000 부터 1111까지는 16진수로 모두 표현할 수 있다는 것을 알 수 있습니다.\n",
    "\n",
    "---\n",
    "\n",
    "그렇다면 16진수에서 10부터 15까지는 어떻게 표기할까요? \n",
    "\n",
    "10은 a, 11은 b, …, 15는 f를 대입하여 사용합니다. \n",
    "\n",
    "- 4bits씩 16진수로 변환 후 0x를 붙혀 뒤에 오는 문자들이 16진수임을 알려줍니다."
   ]
  },
  {
   "cell_type": "markdown",
   "id": "2996fbbc",
   "metadata": {},
   "source": [
    "---"
   ]
  },
  {
   "cell_type": "markdown",
   "id": "cf91f8c7",
   "metadata": {},
   "source": [
    "## 16진수의 유용성\n",
    "\n",
    "\n",
    "ASCII 코드에 의해 “A, B, C”는 10진수로 65, 66, 67에 해당합니다. \n",
    "\n",
    "컴퓨터는 10진수를 이해할 수 없으므로, 2진수로 표현해보면  \"01000001 01000010 01000011＂이 됩니다. \n",
    "\n",
    "컴퓨터가 처리할 수 있어야 하기 때문에 어쩔 수 없지만 그 길이가 너무 긴 것을 알 수 있습니다.\n",
    "\n",
    "\n",
    "\n",
    "\n",
    "<img src = \"https://cphinf.pstatic.net/mooc/20170807_161/1502072871106NqRxw_PNG/5.4_-02.png?type=w760\">\n",
    "\n",
    "\n",
    "\n",
    "하지만 16진수로 표현하면 2진수로 표현했을 때 보다 훨씬 간단해집니다. \n",
    "\n",
    "또한 컴퓨터는 8개의 비트가 모인 바이트 단위로 정보를 표현합니다. \n",
    "\n",
    "2개의 16진수는 1byte의 2진수로 변환되기 때문에, 정보를 표현하기 매우 유용합니다.\n",
    "\n",
    "\n",
    "\n",
    "\n",
    "\n",
    "\n",
    "---\n",
    "\n",
    "1byte는 8개의 비트로 이루어진 데이터 단위입니다. \n",
    "\n",
    "16진수는 1개의 숫자 또는 문자를 4개의 비트로 표현할 수 있습니다. \n",
    "\n",
    "예를 들어, 16진수 '1A'는 이진수로 '00011010'로 표현됩니다. 이렇게 변환된 2진수는 컴퓨터에서 데이터를 처리하고 저장하는 데 사용됩니다.\n",
    "\n",
    "16진수를 사용하면 이진수보다 짧고 간단한 표현이 가능하기 때문에 컴퓨터의 메모리 주소, 데이터 값, 레지스터 값 등을 표현하는 데 매우 유용합니다. \n",
    "\n",
    "또한, 16진수는 2진수와 일대일 대응되기 때문에 2진수를 16진수로 변환하거나 16진수를 2진수로 변환하는 것도 쉽습니다.\n",
    "\n",
    "---\n",
    "\n",
    "\n",
    "CS50 16진수로 표현\n",
    "\n",
    "\n",
    "```\n",
    "\n",
    "문자열로 처리\n",
    "\n",
    "\n",
    "      C   S   5   0\n",
    "ASCII 67, 83, 53, 48 \n",
    "\n",
    "2진수  01000011, 01010011, 00110101, 00110000\n",
    "     \n",
    "16진수   0x43,     0x53,     0x35,     0x30 \n",
    "\n",
    "\n",
    "```\n",
    "\n",
    "---\n",
    "\n",
    "숫자 0을 16진수로 표현할 때 \"0x00\"와 \"0x30\" 두 가지 방식을 사용할 수 있습니다. \n",
    "\n",
    "어떤 표현을 사용할지는 맥락과 문맥에 따라 다를 수 있습니다.\n",
    "\n",
    "\n",
    "일반적으로 \"0x00\"은 숫자 0을 16진수로 표현한 것입니다. \n",
    "\n",
    "이는 숫자 0을 나타내는 가장 일반적인 방식입니다. \n",
    "\n",
    "이 표현은 주로 비트 단위의 초기화나 메모리 영역의 초기화를 나타낼 때 사용됩니다. \n",
    "\n",
    "예를 들어, 메모리를 0으로 초기화하거나 비트 단위의 모든 비트를 0으로 설정할 때 \"0x00\"을 사용합니다.\n",
    "\n",
    "---\n",
    "\n",
    "반면에 \"0x30\"은 문자 '0'을 16진수로 표현한 것입니다. \n",
    "\n",
    "ASCII 코드에서 숫자 '0'은 16진수로 0x30에 해당합니다. \n",
    "\n",
    "이 표현은 문자열이나 문자 데이터를 다룰 때 사용될 수 있습니다.\n",
    "\n",
    "결론적으로, \"0x00\"은 숫자 0을 16진수로 표현한 것이고, \"0x30\"은 문자 '0'을 16진수로 표현한 것입니다. \n",
    "\n",
    "어떤 표현을 사용해야 하는지는 사용되는 맥락에 따라 다르며, 숫자와 문자를 구분하여 사용하는 것이 중요합니다.\n",
    "\n"
   ]
  },
  {
   "cell_type": "markdown",
   "id": "03b040b1",
   "metadata": {},
   "source": [
    "---"
   ]
  },
  {
   "cell_type": "markdown",
   "id": "b59c2856",
   "metadata": {},
   "source": [
    "## 메모리 주소\n",
    "\n",
    "\n",
    "\n",
    "정수형 변수 n에 50이라는 값을 저장하고 출력한다고 생각해 봅시다.\n",
    "\n",
    "이 n 이라는 값은 int 타입이므로, 아래 그림과 같이 우리 컴퓨터의 메모리 어딘가에 4바이트 만큼의 자리를 차지하며 저장되어 있을 것입니다. \n",
    "\n",
    "\n",
    "- C에서는 변수의 메모리상 주소를 받기 위해 ‘&’이라는 연산자를 사용할 수 있습니다.\n",
    "\n",
    "```.c\n",
    "\n",
    "#include <stdio.h>\n",
    "\n",
    "int main(void)\n",
    "{\n",
    "    int n = 50;\n",
    "    printf(\"%p\\n\", &n);\n",
    "}\n",
    "\n",
    "\n",
    "```\n",
    "\n",
    "예를 들어, 위와 같은 코드를 실행하면 ‘0x7ffe00b3adbc’와 같은 값을 얻을 수 있고, 이는 변수 n의  16진법으로 표현된 메모리의 주소입니다. \n",
    "\n",
    "---\n",
    "\n",
    "반대로 ‘*’를 사용하면 그 메모리 주소에 있는 실제 값을 얻을 수 있습니다.\n",
    "\n",
    "```.c\n",
    "\n",
    "#include <stdio.h>\n",
    "\n",
    "int main(void)\n",
    "{\n",
    "    int n = 50;\n",
    "    printf(\"%i\\n\", *&n);\n",
    "}\n",
    "\n",
    "\n",
    "```\n",
    "위 코드는 먼저 n의 주소를 얻고, 또 다시 그 주소에 해당하는 값을 얻어와 출력한 것이므로 결국 ‘50’이라는 값이 출력되겠죠.\n",
    "\n",
    "\n",
    "---\n",
    "\n",
    "\n"
   ]
  },
  {
   "cell_type": "markdown",
   "id": "3b70a7a0",
   "metadata": {},
   "source": [
    "---"
   ]
  },
  {
   "cell_type": "markdown",
   "id": "26a328c0",
   "metadata": {},
   "source": [
    "## 포인터\n",
    "\n",
    "\n",
    "\n",
    "```.c\n",
    "\n",
    "#include <stdio.h>\n",
    "\n",
    "int main(void)\n",
    "{\n",
    "   int n = 50;\n",
    "   int *p = &n;\n",
    "   \n",
    "   printf(\"%p\\n\", p);  // 주소 &n\n",
    "   \n",
    "   printf(\"%i\\n\", *p); // 주소가 가리키는 값\n",
    "}\n",
    "\n",
    "\n",
    "```\n",
    "위 코드를 보면 정수형 변수 n에는 50이라는 값이 저장되어 있습니다.\n",
    "\n",
    "\n",
    "그리고 *p라는 포인터 변수에 &n 이라는 값, 즉 변수 n의 주소를 저장합니다.\n",
    "\n",
    "int *p 에서 p앞의 *는 이 변수가 포인터라는 의미이고, int 는 이 포인터가 int 타입의 변수를 가리킨다는 의미입니다.\n",
    "\n",
    "\n",
    "따라서 첫 번째 printf문과 같이 포인터 p의 값, 즉 변수 n의 주소를 출력하거나, 두 번째 printft문과 같이 포인터 p가 가리키는 변수의 값, 즉 변수 n의 값을 출력할 수도 있습니다.\n",
    "\n",
    "\n",
    "\n",
    "<img src = \"https://cs50.harvard.edu/x/2020/notes/4/pointing.png\" >"
   ]
  },
  {
   "cell_type": "markdown",
   "id": "e35e02c2",
   "metadata": {},
   "source": [
    "---"
   ]
  },
  {
   "cell_type": "markdown",
   "id": "1335b072",
   "metadata": {},
   "source": [
    "## 포인터 크기, 메모리 크기\n",
    "\n",
    "\n",
    "\n",
    "포인터의 크기와 메모리의 크기는 서로 다른 개념이며, 직접적인 관계는 없습니다.\n",
    "\n",
    "포인터는 변수나 데이터의 메모리 주소를 저장하는 변수입니다. \n",
    "\n",
    "---\n",
    "\n",
    "즉, 포인터는 메모리 주소를 가리키는 값이므로, 포인터의 크기는 메모리 주소를 표현하기 위해 필요한 비트 수에 의해 결정됩니다. \n",
    "\n",
    "일반적으로 포인터의 크기는 시스템의 아키텍처에 따라 결정되며, 주로 32비트 또는 64비트입니다. (운영체제 기본 처리 단위)\n",
    "\n",
    "---\n",
    "\n",
    "반면에 메모리의 크기는 시스템의 물리적인 메모리 용량을 의미합니다. \n",
    "\n",
    "이는 컴퓨터 시스템의 하드웨어적인 구성과 설계에 의해 결정됩니다. \n",
    "\n",
    "메모리의 크기는 주로 바이트 단위로 표시되며, 일반적으로 메모리의 크기가 커질수록 더 많은 데이터를 저장할 수 있습니다.\n",
    "\n",
    "---\n",
    "\n",
    "따라서, 포인터의 크기와 메모리의 크기는 서로 다른 개념이며, 서로에게 직접적인 영향을 주진 않습니다. \n",
    "\n",
    "포인터의 크기는 메모리 주소를 표현하는 데에 필요한 비트 수에 의해 결정되고, 메모리의 크기는 물리적인 메모리 용량에 의해 결정됩니다."
   ]
  },
  {
   "cell_type": "markdown",
   "id": "d9ba1217",
   "metadata": {},
   "source": [
    "---"
   ]
  },
  {
   "cell_type": "markdown",
   "id": "05d2f9fd",
   "metadata": {},
   "source": [
    "## 메모리 할당과 해제\n",
    "\n",
    "malloc 함수를 이용하여 메모리를 할당한 후에는 free 라는 함수를 이용하여 메모리를 해제해줘야 합니다.\n",
    "\n",
    "그렇지 않은 경우 메모리에 저장한 값은 쓰레기 값으로 남게 되어 메모리 용량의 낭비가 발생하게 되기 때문이죠.\n",
    "\n",
    "이러한 현상을 ‘메모리 누수 (memory leak) ’라고 일컫습니다.\n",
    "\n",
    "valgrind 라는 프로그램을 사용하면 우리가 작성한 코드에서 메모리와 관련된 문제가 있는지를 쉽게 확인할 수 있습니다. "
   ]
  },
  {
   "cell_type": "markdown",
   "id": "cff0a050",
   "metadata": {},
   "source": [
    "---"
   ]
  },
  {
   "cell_type": "markdown",
   "id": "252f689d",
   "metadata": {},
   "source": [
    "## 메모리 교환\n",
    "\n",
    "\n",
    "```.c\n",
    "\n",
    "#include <stdio.h>\n",
    "\n",
    "void swap(int a, int b);\n",
    "\n",
    "int main(void)\n",
    "{\n",
    "    int x = 1;\n",
    "    int y = 2;\n",
    "\n",
    "    printf(\"x is %i, y is %i\\n\", x, y);\n",
    "    swap(x, y);\n",
    "    printf(\"x is %i, y is %i\\n\", x, y);\n",
    "}\n",
    "\n",
    "void swap(int a, int b)\n",
    "{\n",
    "    int tmp = a;\n",
    "    a = b;\n",
    "    b = tmp;\n",
    "}\n",
    "\n",
    "\n",
    "\n",
    "```\n",
    "\n",
    "\n",
    "\n",
    "위 코드를 컴파일하고 출력해보면 우리 의도와는 다르게 swap 함수를 거친 후에도 x와 y의 값이 바뀌지 않은채 그대로 출력됨을 알 수 있습니다.\n",
    "\n",
    "사실 swap 함수는 교환 작업을 제대로 수행하고 있는데요.\n",
    "\n",
    "---\n",
    "\n",
    "문제는 교환하는 대상이 x, y 그 자체가 아닌, 함수 내에서 새롭게 정의된 a, b라는 것이었습니다.\n",
    "\n",
    "a와 b는 각각 x와 y의 값을 복제하여 가지게 됩니다. \n",
    "\n",
    "서로 다른 메모리 주소에 저장되는 것이죠.\n",
    "\n"
   ]
  },
  {
   "cell_type": "markdown",
   "id": "8d801a1b",
   "metadata": {},
   "source": [
    "---"
   ]
  },
  {
   "cell_type": "markdown",
   "id": "67d0a613",
   "metadata": {},
   "source": [
    "## 메모리 공간\n",
    "\n",
    "\n",
    "메모리 안에는 데이터 저장되는 구역이 나뉘어져 있습니다.\n",
    "\n",
    "머신 코드 영역에는 우리 프로그램이 실행될 때 그 프로그램이 컴파일된 바이너리가 저장됩니다.\n",
    "\n",
    "글로벌 영역에는 프로그램 안에서 저장된 전역 변수가 저장됩니다.\n",
    "\n",
    "힙 영역에는 malloc으로 할당된 메모리의 데이터가 저장됩니다. \n",
    "\n",
    "그리고 스택에는 프로그램 내의 함수와 관련된 것들이 저장됩니다.\n",
    "\n",
    "\n",
    "---\n",
    "\n",
    "메모리 구조는 컴퓨터 시스템에서 프로그램과 데이터를 저장하고 관리하는 방법을 나타냅니다. 일반적으로 다음과 같은 구성 요소로 나뉘어집니다:\n",
    "\n",
    "1. 머신 코드 (Machine Code):\n",
    "   - 머신 코드는 컴퓨터의 중앙 처리 장치(CPU)에서 실행되는 프로그램의 명령어를 포함합니다.\n",
    "   - 프로그램이 실행될 때 그 프로그램이 컴파일된 바이너리가 저장됩니다.\n",
    "   - 이 영역에는 프로그램의 실행 코드가 저장되며, CPU가 이 코드를 순차적으로 읽어 명령을 수행합니다.\n",
    "\n",
    "2. 글로벌 영역 (Globals):\n",
    "   - 글로벌 영역은 프로그램의 전역 변수와 정적 변수를 저장합니다.\n",
    "   - 전역 변수는 프로그램의 어디서나 접근 가능한 변수이며, 프로그램 실행 도중에 유지됩니다.\n",
    "   - 정적 변수는 특정 함수 또는 블록 내에서만 접근 가능한 변수입니다.\n",
    "\n",
    "3. 힙 (Heap):\n",
    "   - 힙은 동적으로 할당된 메모리를 저장하는 영역입니다.\n",
    "   - 힙은 프로그램 실행 중에 동적으로 메모리를 할당하고 해제하는 데 사용됩니다.\n",
    "   - 동적으로 할당된 데이터는 프로그래머가 직접 관리해야 하며, 필요에 따라 크기가 조정될 수 있습니다.\n",
    "   - 일반적으로 malloc, calloc, realloc과 같은 함수를 사용하여 할당된 메모리의 데이터를 힙에서 할당하고, free 함수를 사용하여 메모리를 해제합니다.\n",
    "\n",
    "4. 스택 (Stack):\n",
    "   - 스택은 함수 호출과 로컬 변수를 저장하는 데 사용되는 영역입니다.\n",
    "   - 각 함수 호출은 스택에 새로운 프레임을 생성하고, 로컬 변수, 매개 변수, 복귀 주소 등의 정보를 저장합니다.\n",
    "   - 함수가 실행을 완료하면 해당 프레임은 스택에서 제거되며, 이전에 호출된 함수의 상태로 돌아갑니다.\n",
    "   - 스택은 후입선출(LIFO) 구조로 동작합니다.\n",
    "\n",
    "이러한 메모리 구조는 프로그램의 실행 동안 메모리를 효율적으로 관리하고, 프로그램의 실행 흐름과 데이터를 올바르게 구성하는 데 도움을 줍니다.\n",
    "\n",
    "\n",
    "\n",
    "---\n",
    "<img src = \"https://cs50.harvard.edu/x/2020/notes/4/memory_layout.png\">\n",
    "\n",
    "---\n",
    "\n",
    "\n",
    "\n",
    "이를 바탕으로 다시 생각해보면, 위의 코드에서 a, b, x, y, tmp 모두 스택 영역에 저장되지만, a와 x, b와 y는 그 안에서도 서로 다른 위치에 저장된 변수입니다.\n",
    "\n",
    "\n",
    "따라서 a와 b를 바꾸는 것은 x와 y를 바꾸는 것에 아무런 영향도 미치지 않는 것이죠. \n",
    "\n",
    "따라서 아래 그림 및 코드와 같이 a와 b를 각각 x와 y를 가리키는 포인터로 지정함으로써 이 문제를 쉽게 해결할 수 있습니다.\n",
    "\n",
    "\n",
    "---\n",
    "<img src = \"https://cs50.harvard.edu/x/2020/notes/4/pointers.png\">\n",
    "\n",
    "---\n",
    "\n",
    "```.c\n",
    "\n",
    "#include <stdio.h>\n",
    "\n",
    "void swap(int *a, int *b);\n",
    "\n",
    "int main(void)\n",
    "{\n",
    "    int x = 1;\n",
    "    int y = 2;\n",
    "\n",
    "    printf(\"x is %i, y is %i\\n\", x, y);\n",
    "    swap(&x, &y);\n",
    "    printf(\"x is %i, y is %i\\n\", x, y);\n",
    "}\n",
    "\n",
    "void swap(int *a, int *b)\n",
    "{\n",
    "    int tmp = *a;\n",
    "    *a = *b;\n",
    "    *b = tmp;\n",
    "}\n",
    "\n",
    "```\n",
    "\n"
   ]
  },
  {
   "cell_type": "markdown",
   "id": "f33fb489",
   "metadata": {},
   "source": [
    "---"
   ]
  },
  {
   "cell_type": "markdown",
   "id": "7189a1ea",
   "metadata": {},
   "source": [
    "## 메모리 공간을 다양하게 나누는 이유\n",
    "\n",
    "1. 분리된 저장 공간: 메모리 영역을 나눔으로써 각 영역은 고유한 목적을 가지고 데이터를 저장합니다. \n",
    "\n",
    "    - 이를 통해 데이터를 분리하여 보다 효율적으로 관리할 수 있습니다. \n",
    "\n",
    "    - 예를 들어, 머신 코드 영역에는 실행 코드만 저장하여 프로그램의 실행을 위한 메모리 공간을 확보하고, 힙 영역에는 동적으로 할당된 데이터를 저장하여 필요한 만큼 메모리를 동적으로 사용할 수 있습니다.\n",
    "\n",
    "<br>\n",
    "\n",
    "\n",
    "2. 접근 권한과 보안: 메모리 영역을 나누면 각 영역에 대해 다른 접근 권한을 설정할 수 있습니다. \n",
    "\n",
    "    - 예를 들어, 머신 코드 영역은 실행 가능한 코드만 포함하므로 읽기와 실행만 가능하고, 쓰기는 불가능하게 설정할 수 있습니다. \n",
    "\n",
    "    - 이를 통해 프로그램의 실행과 관련된 보안 문제를 완화할 수 있습니다.\n",
    "\n",
    "<br>\n",
    "\n",
    "3. 메모리 관리와 최적화: 각 영역은 메모리 관리와 최적화를 위해 다른 방식으로 처리될 수 있습니다. \n",
    "\n",
    "    - 예를 들어, 스택 영역은 함수 호출과 관련된 데이터를 저장하는데 사용되며, 호출이 끝나면 자동으로 메모리가 해제됩니다. \n",
    "\n",
    "    - 이를 통해 메모리의 효율적인 사용과 자동 메모리 관리를 가능하게 합니다.\n",
    "\n",
    "<br>\n",
    "\n",
    "4. 데이터 공유와 범위 제한: 글로벌 영역은 프로그램 전역에서 사용되는 전역 변수와 데이터를 저장하는데 사용됩니다. \n",
    "\n",
    "    - 이를 통해 다른 함수나 모듈에서 공유되는 데이터를 저장하고 접근할 수 있습니다. \n",
    "\n",
    "    - 또한, 각 영역은 범위 제한을 통해 변수와 데이터의 유효 범위를 관리하고 충돌을 방지할 수 있습니다.\n",
    "\n",
    "\n",
    "<br>\n",
    "\n",
    "\n",
    "- 메모리 영역을 다양하게 나누는 것은 프로그램의 구조와 동작을 보다 효율적이고 안전하게 관리하기 위한 목적으로 이루어집니다. 각 영역은 특정한 목적을 가지고 데이터를 저장하고 접근할 수 있도록 구성되어 있습니다.\n"
   ]
  },
  {
   "cell_type": "markdown",
   "id": "724ddabd",
   "metadata": {},
   "source": [
    "---"
   ]
  },
  {
   "cell_type": "markdown",
   "id": "2fd74b0e",
   "metadata": {},
   "source": [
    "## "
   ]
  },
  {
   "cell_type": "markdown",
   "id": "b9ead2a6",
   "metadata": {},
   "source": [
    "---"
   ]
  },
  {
   "cell_type": "markdown",
   "id": "7dfec746",
   "metadata": {},
   "source": [
    "## "
   ]
  },
  {
   "cell_type": "markdown",
   "id": "b41332b6",
   "metadata": {},
   "source": [
    "---"
   ]
  },
  {
   "cell_type": "markdown",
   "id": "fae5c2f6",
   "metadata": {},
   "source": [
    "## "
   ]
  },
  {
   "cell_type": "markdown",
   "id": "fd3f4b18",
   "metadata": {},
   "source": [
    "---"
   ]
  },
  {
   "cell_type": "markdown",
   "id": "ce0e3984",
   "metadata": {},
   "source": [
    "## "
   ]
  },
  {
   "cell_type": "markdown",
   "id": "a9f2932a",
   "metadata": {},
   "source": [
    "---"
   ]
  },
  {
   "cell_type": "markdown",
   "id": "7df68bf8",
   "metadata": {},
   "source": [
    "## "
   ]
  },
  {
   "cell_type": "markdown",
   "id": "9ee07f2b",
   "metadata": {},
   "source": [
    "---"
   ]
  },
  {
   "cell_type": "markdown",
   "id": "f82d99d6",
   "metadata": {},
   "source": [
    "## "
   ]
  },
  {
   "cell_type": "markdown",
   "id": "c06ac95a",
   "metadata": {},
   "source": [
    "---"
   ]
  },
  {
   "cell_type": "markdown",
   "id": "e143eba4",
   "metadata": {},
   "source": [
    "## "
   ]
  },
  {
   "cell_type": "markdown",
   "id": "ee2ce9a4",
   "metadata": {},
   "source": [
    "---"
   ]
  },
  {
   "cell_type": "markdown",
   "id": "619b9e8f",
   "metadata": {},
   "source": [
    "## "
   ]
  },
  {
   "cell_type": "markdown",
   "id": "38b7e477",
   "metadata": {},
   "source": [
    "---"
   ]
  },
  {
   "cell_type": "markdown",
   "id": "6f2ae0af",
   "metadata": {},
   "source": [
    "## "
   ]
  },
  {
   "cell_type": "markdown",
   "id": "f1e8daf9",
   "metadata": {},
   "source": [
    "---"
   ]
  },
  {
   "cell_type": "markdown",
   "id": "04da776a",
   "metadata": {},
   "source": [
    "## "
   ]
  },
  {
   "cell_type": "markdown",
   "id": "7115aeaa",
   "metadata": {},
   "source": [
    "---"
   ]
  },
  {
   "cell_type": "markdown",
   "id": "9a1cc6f9",
   "metadata": {},
   "source": [
    "## "
   ]
  },
  {
   "cell_type": "markdown",
   "id": "06f5b5fc",
   "metadata": {},
   "source": [
    "---"
   ]
  },
  {
   "cell_type": "markdown",
   "id": "11a94e36",
   "metadata": {},
   "source": [
    "## "
   ]
  },
  {
   "cell_type": "markdown",
   "id": "993f8763",
   "metadata": {},
   "source": [
    "---"
   ]
  },
  {
   "cell_type": "markdown",
   "id": "40ec5e31",
   "metadata": {},
   "source": [
    "## "
   ]
  },
  {
   "cell_type": "markdown",
   "id": "2125e305",
   "metadata": {},
   "source": [
    "---"
   ]
  },
  {
   "cell_type": "markdown",
   "id": "85452007",
   "metadata": {},
   "source": [
    "## "
   ]
  }
 ],
 "metadata": {
  "kernelspec": {
   "display_name": "Python 3 (ipykernel)",
   "language": "python",
   "name": "python3"
  },
  "language_info": {
   "codemirror_mode": {
    "name": "ipython",
    "version": 3
   },
   "file_extension": ".py",
   "mimetype": "text/x-python",
   "name": "python",
   "nbconvert_exporter": "python",
   "pygments_lexer": "ipython3",
   "version": "3.8.16"
  },
  "toc": {
   "base_numbering": 1,
   "nav_menu": {},
   "number_sections": true,
   "sideBar": true,
   "skip_h1_title": false,
   "title_cell": "Table of Contents",
   "title_sidebar": "Contents",
   "toc_cell": false,
   "toc_position": {},
   "toc_section_display": true,
   "toc_window_display": false
  },
  "varInspector": {
   "cols": {
    "lenName": 16,
    "lenType": 16,
    "lenVar": 40
   },
   "kernels_config": {
    "python": {
     "delete_cmd_postfix": "",
     "delete_cmd_prefix": "del ",
     "library": "var_list.py",
     "varRefreshCmd": "print(var_dic_list())"
    },
    "r": {
     "delete_cmd_postfix": ") ",
     "delete_cmd_prefix": "rm(",
     "library": "var_list.r",
     "varRefreshCmd": "cat(var_dic_list()) "
    }
   },
   "types_to_exclude": [
    "module",
    "function",
    "builtin_function_or_method",
    "instance",
    "_Feature"
   ],
   "window_display": false
  }
 },
 "nbformat": 4,
 "nbformat_minor": 5
}
