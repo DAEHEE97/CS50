{
 "cells": [
  {
   "cell_type": "markdown",
   "id": "19db72df",
   "metadata": {},
   "source": [
    "# Q4"
   ]
  },
  {
   "cell_type": "markdown",
   "id": "48924d62",
   "metadata": {},
   "source": [
    "\n",
    "## \n",
    "\n",
    "알고리즘의 성능 및 시간 복잡도를 표현하는 표기법 중 하나로, 최악의 경우일때(상한)를 나타내는 것은 다음 중 무엇인가요?\n",
    "\n",
    "- O()\n",
    "\n",
    "O 표기법은 알고리즘의 시간 복잡도를 상한으로 표현하는 데 사용됩니다.\n",
    "\n",
    "이는 알고리즘의 실행 시간이 입력 크기에 대해 얼마나 빠르게 증가하는지를 나타냅니다. \n",
    "\n",
    "O() 표기법은 주로 알고리즘의 최악의 실행 시간을 나타내며, 입력 크기에 따른 실행 시간의 상한을 제공합니다.\n"
   ]
  },
  {
   "cell_type": "markdown",
   "id": "0139fcf0",
   "metadata": {},
   "source": [
    "---"
   ]
  },
  {
   "cell_type": "markdown",
   "id": "0aa21d84",
   "metadata": {},
   "source": [
    "##\n",
    "\n",
    "name과 number 두개의 멤버를 갖는 person이라는 새로운 자료형을 구조체로 정의하고자 합니다. \n",
    "\n",
    "\n",
    "\n",
    "```.c\n",
    "typedef struct{\n",
    "\n",
    "    string name;\n",
    "    string numner;\n",
    "}\n",
    "person;\n",
    "```"
   ]
  },
  {
   "cell_type": "markdown",
   "id": "5ac9f8b0",
   "metadata": {},
   "source": [
    "---"
   ]
  },
  {
   "cell_type": "markdown",
   "id": "8cfcbd22",
   "metadata": {},
   "source": [
    "##\n",
    "\n",
    "전화번호부 책에서 '이펭수'를 찾는 작업을 선형 검색으로 수행하게 될 경우 Big-O 는 어떻게 될까요?\n",
    "\n",
    "- O(n)\n",
    "\n",
    "\n",
    "선형 검색은 리스트나 배열에서 원하는 값을 찾기 위해 처음부터 끝까지 순차적으로 탐색하는 방법입니다. \n",
    "\n",
    "따라서 선형 검색의 시간 복잡도는 O(n)입니다.\n",
    "\n",
    "O(n)은 입력 크기에 비례하여 실행 시간이 선형적으로 증가함을 의미합니다. \n",
    "\n",
    "즉, 원소의 개수가 n개일 때, 선형 검색은 최악의 경우 n번의 비교를 수행해야 원하는 값을 찾을 수 있습니다.\n",
    "\n",
    "따라서, 전화번호부에서 '이펭수'를 선형 검색으로 찾는 작업의 시간 복잡도는 O(n)입니다."
   ]
  },
  {
   "cell_type": "markdown",
   "id": "e6762d1d",
   "metadata": {},
   "source": [
    "---"
   ]
  },
  {
   "cell_type": "markdown",
   "id": "24a922e6",
   "metadata": {},
   "source": [
    "##\n",
    "\n",
    "5 6 7 3 2 과 같은 숫자 리스트가 주어졌습니다. \n",
    "\n",
    "오름차순 정렬을 위해 버블 정렬을 왼쪽 처음부터 오른쪽 끝까지 ‘한 번’ 수행했을 때의 리스트는 어떻게 될까요?\n",
    "\n",
    "\n",
    "\n",
    "주어진 숫자 리스트 [5, 6, 7, 3, 2]에 대해 버블 정렬을 한 번 수행한 결과는 다음과 같습니다.\n",
    "\n",
    "- 비교: 5와 6 비교 -> [5, 6, 7, 3, 2]\n",
    "\n",
    "- 비교: 6와 7 비교 -> [5, 6, 7, 3, 2]\n",
    "\n",
    "- 비교: 7와 3 비교 -> [5, 6, 3, 7, 2]\n",
    "\n",
    "- 비교: 7와 2 비교 -> [5, 6, 3, 2, 7]\n",
    "\n",
    "한 번의 버블 정렬 수행 후에는 7이 가장 오른쪽으로 이동하였습니다.\n"
   ]
  },
  {
   "cell_type": "markdown",
   "id": "a36b171e",
   "metadata": {},
   "source": [
    "---"
   ]
  },
  {
   "cell_type": "markdown",
   "id": "05766148",
   "metadata": {},
   "source": [
    "##\n",
    "\n",
    "5 6 7 3 2 와 같은 숫자 리스트가 주어졌습니다. \n",
    "\n",
    "오름차순 정렬을 위해 선택 정렬을 통해 교환을 ‘한 번’ 수행했을 때의 리스트는 어떻게 될까요?\n",
    "\n",
    "\n",
    "\n",
    "주어진 숫자 리스트 [5, 6, 7, 3, 2]에 대해 선택 정렬을 한 번 수행한 결과는 다음과 같습니다.\n",
    "\n",
    "1. 최소값을 찾기 위해 첫 번째 원소인 5를 선택합니다.\n",
    "\n",
    "2. 선택한 최소값 5와 나머지 원소를 비교하여 최소값을 찾습니다.\n",
    "   \n",
    "   - 5와 6을 비교하면 5가 작으므로 변경하지 않습니다.\n",
    "   - 5와 7을 비교하면 5가 작으므로 변경하지 않습니다.\n",
    "   - 5와 3을 비교하면 3이 작으므로 최소값을 3으로 변경합니다.\n",
    "   - 5와 2를 비교하면 2가 작으므로 최소값을 2로 변경합니다.\n",
    "   \n",
    "   \n",
    "3. 최소값인 2를 첫 번째 원소와 교환합니다.\n",
    "   - 따라서 리스트는 [2, 6, 7, 3, 5]가 됩니다.\n",
    "\n",
    "선택 정렬은 한 번의 반복마다 최소값을 찾아서 첫 번째 원소와 교환하는 과정을 수행합니다. \n",
    "\n",
    "위에서는 한 번의 반복을 수행한 결과를 보여주었습니다. 이후에는 다음 원소를 선택하여 최소값을 찾고 교환하는 과정을 반복하게 됩니다."
   ]
  },
  {
   "cell_type": "markdown",
   "id": "254f838d",
   "metadata": {},
   "source": [
    "---"
   ]
  },
  {
   "cell_type": "markdown",
   "id": "d95d7167",
   "metadata": {},
   "source": [
    "## \n",
    "\n",
    "선택 정렬, 버블 정렬, 선형 검색, 이진 검색 4가지 알고리즘이 최선인 경우일 때의 실행시간이(하한) 빠른 순서대로 나열한 것은 무엇인가요? \n",
    "\n",
    "(단, 하한이 같은 경우 상한이 빠른 순으로 나열합니다)\n",
    "\n",
    "- 이진 검색 - 선형 검색 - 버블 정렬 - 선택 정렬"
   ]
  },
  {
   "cell_type": "markdown",
   "id": "6c345c7f",
   "metadata": {},
   "source": [
    "---"
   ]
  },
  {
   "cell_type": "markdown",
   "id": "fd7b1a2b",
   "metadata": {},
   "source": [
    "## \n",
    "\n",
    "아래 코드가 주어졌을 때, 재귀적으로 피라미드를 쌓는 `draw` 함수가 몇 번 호출되는지 확인해보겠습니다.\n",
    "\n",
    "```c\n",
    "void draw(int h) {\n",
    "  if (h == 0) {\n",
    "    return;\n",
    "  }\n",
    "  draw(h - 1);\n",
    "  for (int i = 0; i < h; i++) {\n",
    "    printf(\"*\");\n",
    "  }\n",
    "  printf(\"\\n\");\n",
    "}\n",
    "```\n",
    "\n",
    "재귀 호출은 `draw(h - 1)`이므로 매 호출마다 `h` 값이 1씩 감소합니다. \n",
    "\n",
    "따라서, `h` 값이 3으로 시작했을 때, 재귀 호출은 다음과 같이 일어납니다:\n",
    "\n",
    "- `draw(3)`\n",
    "  - `draw(2)`\n",
    "    - `draw(1)`\n",
    "      - `draw(0)` - > return 함수 종료\n",
    "      - 출력: *\n",
    "    - 출력: **\n",
    "  - 출력: ***\n",
    "  \n",
    "재귀 호출은 `h` 값이 0이 될 때까지 반복되므로, `draw` 함수는 총 4번 호출됩니다.\n",
    "\n",
    "따라서, `h` 값으로 3이 입력되었을 때 `draw` 함수는 총 4번 호출됩니다."
   ]
  },
  {
   "cell_type": "markdown",
   "id": "1a1acc87",
   "metadata": {},
   "source": [
    "---"
   ]
  },
  {
   "cell_type": "markdown",
   "id": "9b3e852e",
   "metadata": {},
   "source": [
    "##\n",
    "\n",
    "병합 정렬, 선택 정렬, 버블 정렬의 실행시간의 하한을 빠른 순서대로 정렬한 것은 무엇인가요?\n",
    "\n",
    "- 버블 정렬 - 병합 정렬 - 선택 정렬"
   ]
  },
  {
   "cell_type": "markdown",
   "id": "02c1cff7",
   "metadata": {},
   "source": [
    "---"
   ]
  },
  {
   "cell_type": "markdown",
   "id": "81134e85",
   "metadata": {},
   "source": [
    "##\n",
    "\n",
    "알고리즘의 실행 시간의 상한을 비교하기 위해 Big-O 표기법을 사용합니다. 다음 Big-O 표기법 중 빠른 순서대로 올바르게 정렬한 것은 무엇인가요?\n",
    "\n",
    "- O(1) – O(log n) – O(n) –O(nlogn)- O(n^2)\n",
    "\n",
    "- 이진 검색 - 선형 검색 (1)\n",
    "\n",
    "- 버블 정렬 (n)\n",
    "\n",
    "- 병합 정렬 (nlogn)\n",
    "\n",
    "- 선택 정렬 (n^2)\n"
   ]
  },
  {
   "cell_type": "markdown",
   "id": "e21ed749",
   "metadata": {},
   "source": [
    "---"
   ]
  }
 ],
 "metadata": {
  "kernelspec": {
   "display_name": "Python 3 (ipykernel)",
   "language": "python",
   "name": "python3"
  },
  "language_info": {
   "codemirror_mode": {
    "name": "ipython",
    "version": 3
   },
   "file_extension": ".py",
   "mimetype": "text/x-python",
   "name": "python",
   "nbconvert_exporter": "python",
   "pygments_lexer": "ipython3",
   "version": "3.8.16"
  },
  "toc": {
   "base_numbering": 1,
   "nav_menu": {},
   "number_sections": true,
   "sideBar": true,
   "skip_h1_title": false,
   "title_cell": "Table of Contents",
   "title_sidebar": "Contents",
   "toc_cell": false,
   "toc_position": {},
   "toc_section_display": true,
   "toc_window_display": false
  },
  "varInspector": {
   "cols": {
    "lenName": 16,
    "lenType": 16,
    "lenVar": 40
   },
   "kernels_config": {
    "python": {
     "delete_cmd_postfix": "",
     "delete_cmd_prefix": "del ",
     "library": "var_list.py",
     "varRefreshCmd": "print(var_dic_list())"
    },
    "r": {
     "delete_cmd_postfix": ") ",
     "delete_cmd_prefix": "rm(",
     "library": "var_list.r",
     "varRefreshCmd": "cat(var_dic_list()) "
    }
   },
   "types_to_exclude": [
    "module",
    "function",
    "builtin_function_or_method",
    "instance",
    "_Feature"
   ],
   "window_display": false
  }
 },
 "nbformat": 4,
 "nbformat_minor": 5
}
