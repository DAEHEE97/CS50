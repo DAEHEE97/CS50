{
 "cells": [
  {
   "cell_type": "markdown",
   "id": "19db72df",
   "metadata": {},
   "source": [
    "# Q3"
   ]
  },
  {
   "cell_type": "markdown",
   "id": "b27eb416",
   "metadata": {},
   "source": [
    "---"
   ]
  },
  {
   "cell_type": "markdown",
   "id": "48924d62",
   "metadata": {},
   "source": [
    "##\n",
    "\n",
    "컴파일링의 네 단계에 해당하지 않는 것은 무엇인가요?\n",
    "\n",
    "\n",
    "- 소스코드 내에 존재하는 오류를 해결하기 위한 작업 : 디버깅(debugging)\n",
    "\n",
    "\n"
   ]
  },
  {
   "cell_type": "markdown",
   "id": "0139fcf0",
   "metadata": {},
   "source": [
    "---"
   ]
  },
  {
   "cell_type": "markdown",
   "id": "0aa21d84",
   "metadata": {},
   "source": [
    "##\n",
    "\n",
    "char 자료형을 5개 담을 수 있는 [edwith]라는 이름의 배열을 선언하는 코드는 무엇인가요?\n",
    "\n",
    "- char edwith[5];"
   ]
  },
  {
   "cell_type": "markdown",
   "id": "5ac9f8b0",
   "metadata": {},
   "source": [
    "---"
   ]
  },
  {
   "cell_type": "markdown",
   "id": "8cfcbd22",
   "metadata": {},
   "source": [
    "##\n",
    "\n",
    "int scores[10]; 이라는 배열이 선언되어 있습니다. 이 배열의 처음부터 끝 인덱스까지 순환하는 for 루프는 무엇인가요?\n",
    "\n",
    "- for (int i = 0; i < 10; i++) {... scores[i] ...}"
   ]
  },
  {
   "cell_type": "markdown",
   "id": "e6762d1d",
   "metadata": {},
   "source": [
    "---"
   ]
  },
  {
   "cell_type": "markdown",
   "id": "24a922e6",
   "metadata": {},
   "source": [
    "##\n",
    "\n",
    "아래와 같은 main 함수를 지니는 edwith.c 코드소스를 작성하고 컴파일했습니다. \n",
    "\n",
    "'$ ./edwith hello world'를 실행하였을 때 argc의 값은 무엇일까요?\n",
    "\n",
    "\n",
    "```.c\n",
    "#include <stdio.h>\n",
    "\n",
    "int main(int argc, char* argv[]) {\n",
    "    // ...\n",
    "}\n",
    "\n",
    "\n",
    "```\n",
    "\n",
    "\n",
    "- argc는 실행 시 전달된 명령행 인수(argument count)의 개수를 나타내는 변수입니다. \n",
    "\n",
    "- argv는 명령행 인수들을 저장하는 문자열 배열입니다.\n",
    "\n",
    "---\n",
    "\n",
    "실행 시 $ ./edwith hello world와 같이 명령어를 입력했을 때, argc의 값은 3입니다. \n",
    "\n",
    "이는 프로그램 이름(./edwith)을 포함하여 3개의 인수가 전달되었기 때문입니다.\n",
    "\n",
    "---\n",
    "\n",
    "./edwith: 프로그램의 이름이 전달됩니다. 이는 실행 파일의 경로를 나타냅니다\n",
    "\n",
    "hello: 첫 번째 명령행 인수로 전달된 문자열입니다.\n",
    "\n",
    "world: 두 번째 명령행 인수로 전달된 문자열입니다.\n",
    "\n",
    "\n",
    "\n",
    "- 따라서, $ ./edwith hello world를 실행했을 때 argc의 값은 3이 되며, \n",
    "\n",
    "- argv[0]는 ./edwith, argv[1]는 hello, argv[2]는 world를 가리키게 됩니다.\n"
   ]
  },
  {
   "cell_type": "markdown",
   "id": "a36b171e",
   "metadata": {},
   "source": [
    "---"
   ]
  },
  {
   "cell_type": "markdown",
   "id": "05766148",
   "metadata": {},
   "source": [
    "##\n",
    "\n",
    "C 소스파일의 링크, 컴파일, 빌드 작업을 자동화해주는 툴은 다음 중 무엇인가요?\n",
    "\n",
    "- make\n",
    "\n",
    "\"make\"는 주어진 소스 코드 파일과 해당 파일을 컴파일하여 실행 파일을 생성하는 작업을 자동화하는 도구입니다.\n",
    "\n",
    "Makefile이라는 특정 형식의 설정 파일을 작성하여 컴파일러 및 링커 옵션, 의존성 관계 등을 지정할 수 있습니다. \n",
    "\n",
    "이를 통해 개발자는 복잡한 빌드 과정을 자동화하고, 변경된 파일만 컴파일하여 효율적인 빌드 작업을 수행할 수 있습니다.\n",
    "\n",
    "따라서, \"make\"가 C 소스 파일의 링크, 컴파일, 빌드 작업을 자동화해주는 툴입니다. \n",
    "\n"
   ]
  },
  {
   "cell_type": "markdown",
   "id": "254f838d",
   "metadata": {},
   "source": [
    "---"
   ]
  },
  {
   "cell_type": "markdown",
   "id": "d95d7167",
   "metadata": {},
   "source": [
    "## \n",
    "\n",
    "소스코드를 작성할 때 우리가 의식적으로 또는 무의식적으로 저지른 실수나 오류를 통상적으로 일컫는 단어는 무엇인가요?\n",
    "\n",
    "- 버그(bug)"
   ]
  },
  {
   "cell_type": "markdown",
   "id": "6c345c7f",
   "metadata": {},
   "source": [
    "---"
   ]
  },
  {
   "cell_type": "markdown",
   "id": "fd7b1a2b",
   "metadata": {},
   "source": [
    "##\n",
    "\n",
    "다음 중 문자열(string)이 메모리에 저장되는 방식에 대한 설명으로 틀린 것은 무엇인가요?\n",
    "\n",
    "\n",
    "- 문자열(string)은 포함된 문자(char) 개수 만큼의 메모리 자리를 차지한다 (x)\n",
    "\n",
    "문자열(string)은 널(NUL) 종단 문자를 포함하여 저장되며, 널 종단 문자는 문자열의 끝을 나타냅니다. \n",
    "\n",
    "따라서, 문자열의 길이는 포함된 문자의 개수보다 1이 크게 됩니다. \n",
    "\n",
    "예를 들어, \"Hello\"라는 문자열은 5개의 문자로 이루어져 있지만, 널 종단 문자를 포함하여 총 6개의 메모리 공간을 차지하게 됩니다.\n",
    "\n",
    "\n",
    "- 문자열(string)은 문자(char)의 배열로 저장된다 (o)\n",
    "\n",
    "- 문자열(string)의 각 문자(char)는 메모리상에 연이어서 저장된다 (o)\n",
    "\n",
    "- 문자열(string)의 끝에는 널(NUL) 종단 문자가 포함된다 (o)\n"
   ]
  },
  {
   "cell_type": "markdown",
   "id": "1a1acc87",
   "metadata": {},
   "source": [
    "---"
   ]
  },
  {
   "cell_type": "markdown",
   "id": "9b3e852e",
   "metadata": {},
   "source": []
  },
  {
   "cell_type": "markdown",
   "id": "02c1cff7",
   "metadata": {},
   "source": [
    "---"
   ]
  },
  {
   "cell_type": "markdown",
   "id": "81134e85",
   "metadata": {},
   "source": []
  },
  {
   "cell_type": "markdown",
   "id": "e21ed749",
   "metadata": {},
   "source": [
    "---"
   ]
  },
  {
   "cell_type": "markdown",
   "id": "13c72570",
   "metadata": {},
   "source": []
  },
  {
   "cell_type": "markdown",
   "id": "476bcdf5",
   "metadata": {},
   "source": [
    "---"
   ]
  },
  {
   "cell_type": "markdown",
   "id": "17ab9585",
   "metadata": {},
   "source": []
  },
  {
   "cell_type": "markdown",
   "id": "ee1b8017",
   "metadata": {},
   "source": [
    "---"
   ]
  }
 ],
 "metadata": {
  "kernelspec": {
   "display_name": "Python 3 (ipykernel)",
   "language": "python",
   "name": "python3"
  },
  "language_info": {
   "codemirror_mode": {
    "name": "ipython",
    "version": 3
   },
   "file_extension": ".py",
   "mimetype": "text/x-python",
   "name": "python",
   "nbconvert_exporter": "python",
   "pygments_lexer": "ipython3",
   "version": "3.8.16"
  },
  "toc": {
   "base_numbering": 1,
   "nav_menu": {},
   "number_sections": true,
   "sideBar": true,
   "skip_h1_title": false,
   "title_cell": "Table of Contents",
   "title_sidebar": "Contents",
   "toc_cell": false,
   "toc_position": {},
   "toc_section_display": true,
   "toc_window_display": false
  },
  "varInspector": {
   "cols": {
    "lenName": 16,
    "lenType": 16,
    "lenVar": 40
   },
   "kernels_config": {
    "python": {
     "delete_cmd_postfix": "",
     "delete_cmd_prefix": "del ",
     "library": "var_list.py",
     "varRefreshCmd": "print(var_dic_list())"
    },
    "r": {
     "delete_cmd_postfix": ") ",
     "delete_cmd_prefix": "rm(",
     "library": "var_list.r",
     "varRefreshCmd": "cat(var_dic_list()) "
    }
   },
   "types_to_exclude": [
    "module",
    "function",
    "builtin_function_or_method",
    "instance",
    "_Feature"
   ],
   "window_display": false
  }
 },
 "nbformat": 4,
 "nbformat_minor": 5
}
