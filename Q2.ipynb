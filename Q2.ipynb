{
 "cells": [
  {
   "cell_type": "markdown",
   "id": "d880c091",
   "metadata": {},
   "source": [
    "# 컴파일러\n",
    "\n",
    "\n",
    "우리가 직접 작성한 코드는 “소스 코드” 라고 불립니다. \n",
    "\n",
    "이를 2진수로 작성된 “머신 코드”로 변환해야 컴퓨터가 이해할 수 있습니다. \n",
    "\n",
    "- 이런 작업을 컴파일러라는 프로그램이 수행해줍니다.\n",
    "\n"
   ]
  },
  {
   "cell_type": "markdown",
   "id": "5993ff6c",
   "metadata": {},
   "source": [
    "<img src = https://cphinf.pstatic.net/mooc/20200608_25/1591593011509xRkDi_PNG/mceclip4.png>\n"
   ]
  },
  {
   "cell_type": "markdown",
   "id": "80c0559c",
   "metadata": {},
   "source": [
    "터미널창의 명령어 프롬프트에서 “$” 기호 옆에우리가 원하는 명령어를 입력하면 됩니다.\n",
    "\n",
    "`clang hello.` : ` “clang” 이라는 컴파일러로 “hello.c”라는 코드를 컴파일하라 `는 의미입니다. \n",
    "\n",
    "- 그 결과 a.out 이라는 파일이 생성됩니다.\n",
    "\n",
    "\n",
    "`./a. out` 이라는 명령어를 실행하면, 컴퓨터가 현재 디렉토리에 있는 a.out이라는 프로그램을 실행하게 해줍니다.\n",
    "\n",
    "(./a. out에서 제일 앞에 있는 .은 지금 있는 현재 폴더를 나타냅니다.)\n"
   ]
  },
  {
   "cell_type": "markdown",
   "id": "b28c4d53",
   "metadata": {},
   "source": [
    "---"
   ]
  },
  {
   "cell_type": "markdown",
   "id": "c4f638f3",
   "metadata": {},
   "source": [
    "## 전처리(Precompile)\n",
    "\n",
    "컴파일의 전체 과정은 네 단계로 나누어볼 수 있습니다. 그 중 첫 번째 단계는 전처리인데, 전처리기에 의해 수행됩니다. # 으로 시작되는 C 소스 코드는 전처리기에게 실질적인 컴파일이 이루어지기 전에 무언가를 실행하라고 알려줍니다.\n",
    "예를 들어, #include는 전처리기에게 다른 파일의 내용을 포함시키라고 알려줍니다. 프로그램의 소스 코드에 #include 와 같은 줄을 포함하면, 전처리기는 새로운 파일을 생성하는데 이 파일은 여전히 C 소스 코드 형태이며 stdio.h 파일의 내용이 #include 부분에 포함됩니다.\n",
    "\n",
    "\n",
    "## 컴파일(Compile)\n",
    "\n",
    "전처리기가 전처리한 소스 코드를 생성하고 나면 그 다음 단계는 컴파일입니다. 컴파일러라고 불리는 프로그램은 C 코드를 어셈블리어라는 저수준 프로그래밍 언어로 컴파일합니다.\n",
    "어셈블리는 C보다 연산의 종류가 훨씬 적지만, 여러 연산들이 함께 사용되면 C에서 할 수 있는 모든 것들을 수행할 수 있습니다. C 코드를 어셈블리 코드로 변환시켜줌으로써 컴파일러는 컴퓨터가 이해할 수 있는 언어와 최대한 가까운 프로그램으로 만들어 줍니다. 컴파일이라는 용어는 소스 코드에서 오브젝트 코드로 변환하는 전체 과정을 통틀어 일컫기도 하지만, 구체적으로 전처리한 소스 코드를 어셈블리 코드로 변환시키는 단계를 말하기도 합니다.\n",
    "\n",
    "\n",
    "## 어셈블(Assemble)\n",
    "\n",
    "소스 코드가 어셈블리 코드로 변환되면, 다음 단계인 어셈블 단계로 어셈블리 코드를 오브젝트 코드로 변환시키는 것입니다. 컴퓨터의 중앙처리장치가 프로그램을 어떻게 수행해야 하는지 알 수 있는 명령어 형태인 연속된 0과 1들로 바꿔주는 작업이죠. 이 변환작업은 어셈블러라는 프로그램이 수행합니다. 소스 코드에서 오브젝트 코드로 컴파일 되어야 할 파일이 딱 한 개라면, 컴파일 작업은 여기서 끝이 납니다. 그러나 그렇지 않은 경우에는 링크라 불리는 단계가 추가됩니다.\n",
    "\n",
    "\n",
    "## 링크(Link)\n",
    "\n",
    "만약 프로그램이 (math.h나 cs50.h와 같은 라이브러리를 포함해) 여러 개의 파일로 이루어져 있어 하나의 오브젝트 파일로 합쳐져야 한다면 링크라는 컴파일의 마지막 단계가 필요합니다. 링커는 여러 개의 다른 오브젝트 코드 파일을 실행 가능한 하나의 오브젝트 코드 파일로 합쳐줍니다. 예를 들어, 컴파일을 하는 동안에 CS50 라이브러리를 링크하면 오브젝트 코드는 GetInt()나 GetString() 같은 함수를 어떻게 실행할 지 알 수 있게 됩니다.\n",
    "\n",
    "이 네 단계를 거치면 최종적으로 실행 가능한 파일이 완성됩니다."
   ]
  },
  {
   "cell_type": "markdown",
   "id": "db705e0d",
   "metadata": {},
   "source": [
    "---"
   ]
  },
  {
   "cell_type": "markdown",
   "id": "a9f88bc9",
   "metadata": {},
   "source": [
    "# Q2"
   ]
  },
  {
   "cell_type": "markdown",
   "id": "c68f1f96",
   "metadata": {},
   "source": [
    "---"
   ]
  },
  {
   "cell_type": "markdown",
   "id": "48924d62",
   "metadata": {},
   "source": [
    "##\n",
    "\n",
    "C언어로 작성된 hello.c 소스코드를 컴퓨터가 이해할 수 있는 머신코드로 컴파일 하기 위해 어떤 명령어를 프롬프트에 입력해야할까요?\n",
    "\n",
    "- $clang hello.c"
   ]
  },
  {
   "cell_type": "markdown",
   "id": "0139fcf0",
   "metadata": {},
   "source": [
    "---"
   ]
  },
  {
   "cell_type": "markdown",
   "id": "0aa21d84",
   "metadata": {},
   "source": [
    "##\n",
    "\n",
    "사용자 이름이 저장된 문자열 변수 name와 \"Hello\"를 연결해서 출력하려합니다. 올바른 C언어 코드는 무엇인가요?\n",
    "\n",
    "- printf(\"Hello, %s\", name);"
   ]
  },
  {
   "cell_type": "markdown",
   "id": "5ac9f8b0",
   "metadata": {},
   "source": [
    "---"
   ]
  },
  {
   "cell_type": "markdown",
   "id": "8cfcbd22",
   "metadata": {},
   "source": [
    "##\n",
    "\n",
    "‘x가 y와 같다면’ 이라는 조건문을 C 코드로 나타내면 어떻게 될까요?\n",
    "\n",
    "- if (x==y)\n"
   ]
  },
  {
   "cell_type": "markdown",
   "id": "e6762d1d",
   "metadata": {},
   "source": [
    "---"
   ]
  },
  {
   "cell_type": "markdown",
   "id": "24a922e6",
   "metadata": {},
   "source": [
    "##\n",
    "\n",
    "변수 x가 입력되었을 때 x가 짝수인지 홀수인지 알아내는 프로그램을 구현하기 위해 사용하면 좋은 연산자는 다음 중 무엇인가요?\n",
    "\n",
    "- % 나머지 연산\n"
   ]
  },
  {
   "cell_type": "markdown",
   "id": "a36b171e",
   "metadata": {},
   "source": [
    "---"
   ]
  },
  {
   "cell_type": "markdown",
   "id": "05766148",
   "metadata": {},
   "source": [
    "## \n",
    "\n",
    "아래와 같은 C 코드가 있습니다. printf 함수 사용을 위해 꼭 추가되어야 하는 코드는 무엇인가요?\n",
    "\n",
    "- `#include <stdio.h>`\n"
   ]
  },
  {
   "cell_type": "markdown",
   "id": "254f838d",
   "metadata": {},
   "source": [
    "---"
   ]
  },
  {
   "cell_type": "markdown",
   "id": "d95d7167",
   "metadata": {},
   "source": [
    "##\n",
    "\n",
    "아래와 같이 hello()라는 사용자 정의 함수를 작성한 후, 메인 함수에서 사용하려고 합니다. \n",
    "\n",
    "파일 상단에 정의되어야하는 코드는 무엇일까요?\n",
    "\n",
    "\n",
    "- void hello(int);\n",
    "\n",
    "\n",
    "메인위의 미리 선언\n",
    "\n",
    "사용자 지정 함수\n",
    "\n"
   ]
  },
  {
   "cell_type": "markdown",
   "id": "6c345c7f",
   "metadata": {},
   "source": [
    "---"
   ]
  },
  {
   "cell_type": "markdown",
   "id": "fd7b1a2b",
   "metadata": {},
   "source": [
    "##\n",
    "\n",
    "어떤 작업을 50번 반복 수행하는 루프를 구현하기 위한 C 코드로 적절한 것은 무엇인가요?\n",
    "\n",
    "- for (int i = 0; i < 50; i++)\n"
   ]
  },
  {
   "cell_type": "markdown",
   "id": "1a1acc87",
   "metadata": {},
   "source": [
    "---"
   ]
  },
  {
   "cell_type": "markdown",
   "id": "9b3e852e",
   "metadata": {},
   "source": [
    "##\n",
    "\n",
    "컴퓨터 하드웨어의 한계로 인해 발생하는 문제 중 하나로, `변수가 담을 수 있는 최대 허용 범위를 벗어난 값을 저장해 예상치 못한 결과가 나오는 현상`을 무엇이라고 하나요?\n",
    "\n",
    "- 오버플로우\n"
   ]
  },
  {
   "cell_type": "markdown",
   "id": "02c1cff7",
   "metadata": {},
   "source": [
    "---"
   ]
  },
  {
   "cell_type": "markdown",
   "id": "81134e85",
   "metadata": {},
   "source": []
  },
  {
   "cell_type": "markdown",
   "id": "e21ed749",
   "metadata": {},
   "source": [
    "---"
   ]
  },
  {
   "cell_type": "markdown",
   "id": "13c72570",
   "metadata": {},
   "source": []
  },
  {
   "cell_type": "markdown",
   "id": "476bcdf5",
   "metadata": {},
   "source": [
    "---"
   ]
  },
  {
   "cell_type": "markdown",
   "id": "17ab9585",
   "metadata": {},
   "source": []
  },
  {
   "cell_type": "markdown",
   "id": "ee1b8017",
   "metadata": {},
   "source": [
    "---"
   ]
  }
 ],
 "metadata": {
  "kernelspec": {
   "display_name": "Python 3 (ipykernel)",
   "language": "python",
   "name": "python3"
  },
  "language_info": {
   "codemirror_mode": {
    "name": "ipython",
    "version": 3
   },
   "file_extension": ".py",
   "mimetype": "text/x-python",
   "name": "python",
   "nbconvert_exporter": "python",
   "pygments_lexer": "ipython3",
   "version": "3.8.16"
  },
  "toc": {
   "base_numbering": 1,
   "nav_menu": {},
   "number_sections": true,
   "sideBar": true,
   "skip_h1_title": false,
   "title_cell": "Table of Contents",
   "title_sidebar": "Contents",
   "toc_cell": false,
   "toc_position": {},
   "toc_section_display": true,
   "toc_window_display": false
  },
  "varInspector": {
   "cols": {
    "lenName": 16,
    "lenType": 16,
    "lenVar": 40
   },
   "kernels_config": {
    "python": {
     "delete_cmd_postfix": "",
     "delete_cmd_prefix": "del ",
     "library": "var_list.py",
     "varRefreshCmd": "print(var_dic_list())"
    },
    "r": {
     "delete_cmd_postfix": ") ",
     "delete_cmd_prefix": "rm(",
     "library": "var_list.r",
     "varRefreshCmd": "cat(var_dic_list()) "
    }
   },
   "types_to_exclude": [
    "module",
    "function",
    "builtin_function_or_method",
    "instance",
    "_Feature"
   ],
   "window_display": false
  }
 },
 "nbformat": 4,
 "nbformat_minor": 5
}
