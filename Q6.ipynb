{
 "cells": [
  {
   "cell_type": "markdown",
   "id": "19db72df",
   "metadata": {},
   "source": [
    "# Q1"
   ]
  },
  {
   "cell_type": "markdown",
   "id": "48924d62",
   "metadata": {},
   "source": []
  },
  {
   "cell_type": "markdown",
   "id": "0139fcf0",
   "metadata": {},
   "source": [
    "---"
   ]
  },
  {
   "cell_type": "markdown",
   "id": "0aa21d84",
   "metadata": {},
   "source": []
  },
  {
   "cell_type": "markdown",
   "id": "5ac9f8b0",
   "metadata": {},
   "source": [
    "---"
   ]
  },
  {
   "cell_type": "markdown",
   "id": "8cfcbd22",
   "metadata": {},
   "source": []
  },
  {
   "cell_type": "markdown",
   "id": "e6762d1d",
   "metadata": {},
   "source": [
    "---"
   ]
  },
  {
   "cell_type": "markdown",
   "id": "24a922e6",
   "metadata": {},
   "source": []
  },
  {
   "cell_type": "markdown",
   "id": "a36b171e",
   "metadata": {},
   "source": [
    "---"
   ]
  },
  {
   "cell_type": "markdown",
   "id": "05766148",
   "metadata": {},
   "source": []
  },
  {
   "cell_type": "markdown",
   "id": "254f838d",
   "metadata": {},
   "source": [
    "---"
   ]
  },
  {
   "cell_type": "markdown",
   "id": "d95d7167",
   "metadata": {},
   "source": []
  },
  {
   "cell_type": "markdown",
   "id": "6c345c7f",
   "metadata": {},
   "source": [
    "---"
   ]
  },
  {
   "cell_type": "markdown",
   "id": "fd7b1a2b",
   "metadata": {},
   "source": []
  },
  {
   "cell_type": "markdown",
   "id": "1a1acc87",
   "metadata": {},
   "source": [
    "---"
   ]
  },
  {
   "cell_type": "markdown",
   "id": "9b3e852e",
   "metadata": {},
   "source": []
  },
  {
   "cell_type": "markdown",
   "id": "02c1cff7",
   "metadata": {},
   "source": [
    "---"
   ]
  },
  {
   "cell_type": "markdown",
   "id": "81134e85",
   "metadata": {},
   "source": []
  },
  {
   "cell_type": "markdown",
   "id": "e21ed749",
   "metadata": {},
   "source": [
    "---"
   ]
  },
  {
   "cell_type": "markdown",
   "id": "13c72570",
   "metadata": {},
   "source": []
  },
  {
   "cell_type": "markdown",
   "id": "476bcdf5",
   "metadata": {},
   "source": [
    "---"
   ]
  },
  {
   "cell_type": "markdown",
   "id": "17ab9585",
   "metadata": {},
   "source": []
  },
  {
   "cell_type": "markdown",
   "id": "ee1b8017",
   "metadata": {},
   "source": [
    "---"
   ]
  }
 ],
 "metadata": {
  "kernelspec": {
   "display_name": "Python 3 (ipykernel)",
   "language": "python",
   "name": "python3"
  },
  "language_info": {
   "codemirror_mode": {
    "name": "ipython",
    "version": 3
   },
   "file_extension": ".py",
   "mimetype": "text/x-python",
   "name": "python",
   "nbconvert_exporter": "python",
   "pygments_lexer": "ipython3",
   "version": "3.8.16"
  },
  "toc": {
   "base_numbering": 1,
   "nav_menu": {},
   "number_sections": true,
   "sideBar": true,
   "skip_h1_title": false,
   "title_cell": "Table of Contents",
   "title_sidebar": "Contents",
   "toc_cell": false,
   "toc_position": {},
   "toc_section_display": true,
   "toc_window_display": false
  },
  "varInspector": {
   "cols": {
    "lenName": 16,
    "lenType": 16,
    "lenVar": 40
   },
   "kernels_config": {
    "python": {
     "delete_cmd_postfix": "",
     "delete_cmd_prefix": "del ",
     "library": "var_list.py",
     "varRefreshCmd": "print(var_dic_list())"
    },
    "r": {
     "delete_cmd_postfix": ") ",
     "delete_cmd_prefix": "rm(",
     "library": "var_list.r",
     "varRefreshCmd": "cat(var_dic_list()) "
    }
   },
   "types_to_exclude": [
    "module",
    "function",
    "builtin_function_or_method",
    "instance",
    "_Feature"
   ],
   "window_display": false
  }
 },
 "nbformat": 4,
 "nbformat_minor": 5
}
